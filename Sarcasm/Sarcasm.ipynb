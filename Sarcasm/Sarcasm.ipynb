{
  "nbformat": 4,
  "nbformat_minor": 0,
  "metadata": {
    "colab": {
      "name": "Sarcasm.ipynb",
      "provenance": [],
      "collapsed_sections": []
    },
    "kernelspec": {
      "name": "python3",
      "display_name": "Python 3"
    },
    "accelerator": "GPU"
  },
  "cells": [
    {
      "cell_type": "code",
      "metadata": {
        "id": "Js0UzG3kqvgu",
        "colab_type": "code",
        "colab": {}
      },
      "source": [
        "import torch\n",
        "from torchtext import data\n",
        "from torchtext import datasets\n",
        "import random\n",
        "import numpy as np\n",
        "import torch.nn as nn\n",
        "import torch.nn.functional as F\n",
        "\n",
        "import spacy\n",
        "nlp = spacy.load('en')"
      ],
      "execution_count": 0,
      "outputs": []
    },
    {
      "cell_type": "code",
      "metadata": {
        "id": "LX1ePM0Pq8Nh",
        "colab_type": "code",
        "colab": {}
      },
      "source": [
        "device = torch.device('cuda' if torch.cuda.is_available() else 'cpu')"
      ],
      "execution_count": 0,
      "outputs": []
    },
    {
      "cell_type": "code",
      "metadata": {
        "id": "5Qe_nQT-3e1P",
        "colab_type": "code",
        "colab": {
          "base_uri": "https://localhost:8080/",
          "height": 52
        },
        "outputId": "d348a457-07d9-4272-ca91-fc4ba2c48f4a"
      },
      "source": [
        "TEXT = data.Field(tokenize = 'spacy', batch_first = True)\n",
        "LABEL = data.LabelField(dtype = torch.float)\n",
        "\n",
        "train_data, test_data = datasets.IMDB.splits(TEXT, LABEL)\n",
        "train_data, valid_data = train_data.split(random_state = random.seed(1234))"
      ],
      "execution_count": 3,
      "outputs": [
        {
          "output_type": "stream",
          "text": [
            "downloading aclImdb_v1.tar.gz\n"
          ],
          "name": "stdout"
        },
        {
          "output_type": "stream",
          "text": [
            "aclImdb_v1.tar.gz: 100%|██████████| 84.1M/84.1M [00:07<00:00, 11.3MB/s]\n"
          ],
          "name": "stderr"
        }
      ]
    },
    {
      "cell_type": "code",
      "metadata": {
        "id": "vocOiAsPzMuc",
        "colab_type": "code",
        "colab": {
          "base_uri": "https://localhost:8080/",
          "height": 52
        },
        "outputId": "06b41e26-7768-47ba-b8c6-bcab228c34e4"
      },
      "source": [
        "TEXT.build_vocab(train_data, max_size = 10000,vectors = \"glove.6B.300d\", unk_init = torch.Tensor.normal_)\n"
      ],
      "execution_count": 4,
      "outputs": [
        {
          "output_type": "stream",
          "text": [
            ".vector_cache/glove.6B.zip: 862MB [06:30, 2.21MB/s]                           \n",
            "100%|█████████▉| 399721/400000 [00:52<00:00, 7629.10it/s]"
          ],
          "name": "stderr"
        }
      ]
    },
    {
      "cell_type": "code",
      "metadata": {
        "id": "zkxtVAmjoOka",
        "colab_type": "code",
        "colab": {}
      },
      "source": [
        "class sentimentCNN(nn.Module):\n",
        "    def __init__(self, vocab_size, embedding_dim, dropout, pad_idx):\n",
        "        super().__init__()\n",
        "        self.embedding = nn.Embedding(vocab_size, embedding_dim, padding_idx = pad_idx)\n",
        "        self.convs = nn.ModuleList([nn.Conv1d(in_channels = embedding_dim, out_channels = 150, kernel_size = fs)for fs in [4,5]])\n",
        "        self.conv2 = nn.Conv1d(in_channels = 1, out_channels = 100, kernel_size = 3)              \n",
        "        self.fc1 = nn.Linear(200, 100) \n",
        "        #self.fc1_bn=nn.BatchNorm1d(100)\n",
        "        self.fc2=nn.Linear(100,1)\n",
        "        #self.dropout = nn.Dropout(dropout)\n",
        "        \n",
        "    def forward(self, text):\n",
        "\n",
        "        embedded = self.embedding(text)        \n",
        "        embedded = embedded.permute(0, 2, 1)\n",
        "\n",
        "        sent_len=embedded.size(2)\n",
        "        padding=3000-sent_len\n",
        "        batch_size=embedded.size(0)\n",
        "        torch_padding=torch.zeros(batch_size,300,padding,dtype = embedded.dtype,device = embedded.device)\n",
        "        lz=[embedded,torch_padding]\n",
        "        zcat = torch.cat(lz, dim = 2)\n",
        "\n",
        "        conved = [F.relu(conv(zcat)) for conv in self.convs]\n",
        "\n",
        "        pooled=[]\n",
        "        for c in conved:\n",
        "          pooled.append(F.max_pool1d(c,c.shape[2]))\n",
        "\n",
        "        pooled = [f.permute(0,2,1) for f in pooled]\n",
        "\n",
        "        pooled2 = [F.max_pool1d(p, 2) for p in pooled]\n",
        "\n",
        "        pooled3 = [F.relu(self.conv2(p1)) for p1 in pooled2]\n",
        "\n",
        "        pooled4=[]\n",
        "        for c in pooled3:\n",
        "            pooled4.append(F.max_pool1d(c,c.shape[2]))\n",
        "\n",
        "        final = torch.cat(pooled4,dim = 1)\n",
        "        final = final.reshape(batch_size,200)\n",
        "        full1 = self.fc1(final)\n",
        "        full2= self.fc2(full1)\n",
        "        return full2"
      ],
      "execution_count": 0,
      "outputs": []
    },
    {
      "cell_type": "code",
      "metadata": {
        "id": "ScE2gEnlpY4q",
        "colab_type": "code",
        "colab": {
          "base_uri": "https://localhost:8080/",
          "height": 34
        },
        "outputId": "8badd4a0-8956-4728-8d4f-378f044b479d"
      },
      "source": [
        "sentimentModel = sentimentCNN(10002, 300, 0.5, 1)\n",
        "sentimentModel = sentimentModel.to(device)"
      ],
      "execution_count": 6,
      "outputs": [
        {
          "output_type": "stream",
          "text": [
            "\r100%|█████████▉| 399721/400000 [01:10<00:00, 7629.10it/s]"
          ],
          "name": "stderr"
        }
      ]
    },
    {
      "cell_type": "code",
      "metadata": {
        "id": "QB545OcsqFB-",
        "colab_type": "code",
        "outputId": "6e1f50ce-ea0a-4f1b-d8b1-4079d3260ed1",
        "colab": {
          "base_uri": "https://localhost:8080/",
          "height": 34
        }
      },
      "source": [
        "sentimentModel.load_state_dict(torch.load('/content/drive/My Drive/sentimentModel.pt'))"
      ],
      "execution_count": 7,
      "outputs": [
        {
          "output_type": "execute_result",
          "data": {
            "text/plain": [
              "<All keys matched successfully>"
            ]
          },
          "metadata": {
            "tags": []
          },
          "execution_count": 7
        }
      ]
    },
    {
      "cell_type": "code",
      "metadata": {
        "id": "p6PjqCoYqLyE",
        "colab_type": "code",
        "colab": {}
      },
      "source": [
        "sentimentActivation = {}\n",
        "def get_sentiactivation(name):\n",
        "    def hook(model, input, output):\n",
        "        sentimentActivation[name] = output.detach()\n",
        "    return hook\n",
        "\n",
        "for name, layer in sentimentModel.named_modules():\n",
        "    layer.register_forward_hook(get_sentiactivation(name))"
      ],
      "execution_count": 0,
      "outputs": []
    },
    {
      "cell_type": "code",
      "metadata": {
        "id": "5m5-06paqYp-",
        "colab_type": "code",
        "colab": {}
      },
      "source": [
        "def extract_sentimentfeatures(model,sentence,min_len=5):\n",
        "  model.eval()\n",
        "  tokenized = [tok.text for tok in nlp.tokenizer(sentence)]\n",
        "  if len(tokenized)>3000:\n",
        "    tokenized=tokenized[:3000]\n",
        "  if len(tokenized) < min_len:\n",
        "      tokenized += ['<pad>'] * (min_len - len(tokenized))\n",
        "  indexed = [TEXT.vocab.stoi[t] for t in tokenized]\n",
        "  tensor = torch.LongTensor(indexed).to(device)\n",
        "  tensor = tensor.unsqueeze(0)\n",
        "  model(tensor)\n",
        "  return sentimentActivation['fc1']\n",
        "\n"
      ],
      "execution_count": 0,
      "outputs": []
    },
    {
      "cell_type": "code",
      "metadata": {
        "id": "6LDBrds9Q_yv",
        "colab_type": "code",
        "colab": {
          "base_uri": "https://localhost:8080/",
          "height": 312
        },
        "outputId": "3a5aaaa7-4d98-43cc-cebc-f9b9ec9c38dd"
      },
      "source": [
        "extract_sentimentfeatures(sentimentModel, \"Good at being terrible \")"
      ],
      "execution_count": 18,
      "outputs": [
        {
          "output_type": "execute_result",
          "data": {
            "text/plain": [
              "tensor([[5.3510e-01, 3.2975e-04, 5.1191e-01, 9.9680e-01, 6.6998e-01, 3.1177e-01,\n",
              "         6.4213e-01, 8.1708e-01, 2.9019e-01, 3.9390e-02, 3.9507e-01, 6.9788e-02,\n",
              "         2.6327e-01, 3.4447e-02, 3.4543e-01, 6.9755e-01, 9.9717e-01, 7.9936e-01,\n",
              "         3.1308e-01, 8.8863e-01, 6.3043e-01, 7.7977e-01, 9.0573e-01, 2.4440e-02,\n",
              "         9.9921e-01, 2.8196e-01, 2.7151e-01, 1.0833e-01, 7.1744e-01, 4.7538e-01,\n",
              "         3.9037e-01, 9.9995e-01, 6.8818e-01, 3.3306e-01, 2.1636e-01, 2.4784e-01,\n",
              "         4.0579e-01, 1.4494e-04, 8.7693e-01, 9.9367e-01, 2.1836e-01, 2.8644e-03,\n",
              "         9.1185e-01, 9.8155e-01, 1.5622e-03, 7.5711e-01, 6.1195e-01, 5.5578e-01,\n",
              "         9.9837e-01, 6.9460e-01, 8.8170e-01, 6.0920e-01, 3.5408e-02, 6.8476e-01,\n",
              "         8.0683e-01, 5.8673e-01, 9.9394e-01, 6.4912e-01, 4.7899e-02, 6.8219e-01,\n",
              "         9.8514e-01, 9.9936e-01, 1.0143e-01, 2.3946e-01, 8.8059e-01, 1.1258e-01,\n",
              "         3.5249e-02, 2.4357e-01, 2.6061e-04, 7.4591e-01, 6.6398e-01, 2.7523e-02,\n",
              "         1.9432e-01, 4.3737e-01, 8.6103e-01, 7.1577e-01, 6.5797e-01, 1.8481e-01,\n",
              "         4.1602e-01, 1.2174e-01, 3.1376e-01, 9.9746e-01, 7.1534e-01, 8.3911e-01,\n",
              "         3.7938e-01, 1.8402e-01, 5.4008e-01, 5.1986e-03, 9.4005e-01, 5.9777e-04,\n",
              "         1.4779e-01, 5.1936e-01, 7.2764e-01, 1.0663e-04, 7.0691e-01, 9.5909e-01,\n",
              "         1.5771e-01, 7.7286e-01, 5.1434e-01, 3.0135e-01]], device='cuda:0')"
            ]
          },
          "metadata": {
            "tags": []
          },
          "execution_count": 18
        }
      ]
    },
    {
      "cell_type": "code",
      "metadata": {
        "id": "waSp_O8ORKkJ",
        "colab_type": "code",
        "colab": {}
      },
      "source": [
        ""
      ],
      "execution_count": 0,
      "outputs": []
    }
  ]
}