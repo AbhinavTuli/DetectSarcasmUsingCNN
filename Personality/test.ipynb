{
 "cells": [
  {
   "cell_type": "code",
   "execution_count": 1,
   "metadata": {},
   "outputs": [],
   "source": [
    "import torch\n",
    "import pandas as pd\n",
    "import re\n",
    "import csv\n",
    "import numpy as np\n",
    "import torchtext\n",
    "from collections import defaultdict\n",
    "from torchtext import data\n",
    "import torch.nn as nn\n",
    "import torch.nn.functional as F\n",
    "from sklearn.model_selection import train_test_split\n",
    "from nltk import sent_tokenize,word_tokenize\n",
    "from torchtext import data,vocab\n",
    "from tqdm.notebook import tqdm, tqdm_notebook,tnrange\n",
    "from sklearn.metrics import accuracy_score"
   ]
  },
  {
   "cell_type": "code",
   "execution_count": 2,
   "metadata": {},
   "outputs": [
    {
     "data": {
      "text/plain": [
       "2000_950082.txt    1998_781969.txt\n",
       "0.652286                   1.21369\n",
       "-1.588505                 -1.28108\n",
       "-0.48468                   0.94828\n",
       "-1.732113                 -1.07938\n",
       "                        ...       \n",
       "4.199569                   4.26741\n",
       "3.098873                   4.23286\n",
       "4.307898                   4.32064\n",
       "4.325302                   4.58866\n",
       "5.270027                   4.43603\n",
       "Name: 0, Length: 85, dtype: object"
      ]
     },
     "execution_count": 2,
     "metadata": {},
     "output_type": "execute_result"
    }
   ],
   "source": [
    "# df1 = pd.read_csv('/home/sanchit/Desktop/DetectSarcasmUsingCNN/Personality/utils/train3.csv')\n",
    "# print(df1[df1['Personality'].isnull()])\n",
    "# df = pd.read_pickle('./datasets/clean_essays.pkl')\n",
    "df = pd.read_csv('./datasets/mairesse.csv')\n",
    "df.iloc[0]"
   ]
  },
  {
   "cell_type": "code",
   "execution_count": null,
   "metadata": {},
   "outputs": [],
   "source": [
    "import csv\n",
    "from collections import OrderedDict\n",
    "feats = {}\n",
    "with open('./datasets/mairesse.csv',newline = '') as file:\n",
    "    read = csv.reader(file,delimiter = ',',quotechar = '\"')\n",
    "#     matrix = np.zeros((2467,84))\n",
    "    i = 0\n",
    "    for line in read:\n",
    "        feats[line[0]] = [float(f) for f in line[1:]]\n",
    "        i += 1\n",
    "feats = OrderedDict(sorted(feats.items()))\n",
    "feats = dict(feats)\n",
    "li = []\n",
    "for key,val in feats.items():\n",
    "    li.append(val)"
   ]
  },
  {
   "cell_type": "code",
   "execution_count": null,
   "metadata": {},
   "outputs": [],
   "source": [
    "df1 = pd.read_csv('essays.csv')\n",
    "df1 = df1.sort_values(by = 'AUTHID')\n",
    "idx = [i for i in range(len(df1))]\n",
    "df1['mairesse'] = li\n",
    "df1['Text'] = df1['Text'].apply(lambda x : str(x).replace(\"�\",\"\\'\"))\n",
    "df1['Text'] = df1['Text'].apply(lambda x : str(x).replace(\"\\\\\\'\",\"\\'\"))\n",
    "df1['Text'] = df1['Text'].apply(lambda x : str(x).replace(\"/\",\"\\'\"))\n",
    "df1['Text'] = df1['Text'].apply(lambda x : str(x).lower())\n",
    "df1['Text'] = df1['Text'].apply(lambda x : re.sub(' +',' ', str(x)))\n",
    "df1['mairesse'] = df1['mairesse'].apply(lambda x : [str(i) for i in x])\n",
    "df1['mairesse'] = df1['mairesse'].apply(lambda x : ' '.join(x))\n",
    "df1['idx'] = idx \n",
    "df1.head()"
   ]
  },
  {
   "cell_type": "code",
   "execution_count": null,
   "metadata": {},
   "outputs": [],
   "source": [
    "def replace(df1,emotion):\n",
    "    df1[emotion] = df1[emotion].apply(lambda x : str(x).replace('y','1'))\n",
    "    df1[emotion] = df1[emotion].apply(lambda x : str(x).replace('n','0'))\n",
    "    df1[emotion] = df1[emotion].apply(lambda x : int(x))\n",
    "    return df1\n",
    "df1 = replace(df1,'EXT')\n",
    "df1 = replace(df1,'NEU')\n",
    "df1 = replace(df1,'AGR')\n",
    "df1 = replace(df1,'CON')\n",
    "df1 = replace(df1,'OPN')"
   ]
  },
  {
   "cell_type": "code",
   "execution_count": null,
   "metadata": {},
   "outputs": [],
   "source": [
    "df1.drop(columns = ['AUTHID'],inplace=True)\n",
    "df1.to_csv('essays_added.csv',index=False)"
   ]
  },
  {
   "cell_type": "code",
   "execution_count": null,
   "metadata": {},
   "outputs": [],
   "source": []
  },
  {
   "cell_type": "code",
   "execution_count": null,
   "metadata": {},
   "outputs": [],
   "source": [
    "def tokenize(s):\n",
    "    return word_tokenize(s)"
   ]
  },
  {
   "cell_type": "code",
   "execution_count": null,
   "metadata": {},
   "outputs": [],
   "source": [
    "def train_test_data(df,emotion = 2):\n",
    "    '''\n",
    "        Dividing the dataset into train and test\n",
    "        input:\n",
    "        df -- Pickled dataset\n",
    "        emotion -- Which emotion to be trained on\n",
    "        \n",
    "        Returns:\n",
    "        Xtrain: Training set of i/p features\n",
    "        Xtest: Testing set of i/p features\n",
    "        Ytrain: Ground truth for training data\n",
    "        Ytest: Ground truth for testing data\n",
    "        len_train: Length of sentences in training data\n",
    "        len_test: Length of sentences in testing data\n",
    "    '''\n",
    "    \n",
    "    df.dropna(how='all')\n",
    "    train, test = train_test_split(df, train_size=0.8)\n",
    "    Xtrain = train.iloc[:,1].values #getting the list of words for Word Vec\n",
    "    Xtrain = Xtrain.reshape((Xtrain.shape[0],1))\n",
    "    Xtest = test.iloc[:,1].values\n",
    "    Xtest = Xtest.reshape((Xtest.shape[0],1))\n",
    "    Ytrain = train.iloc[:,emotion].values\n",
    "    Ytrain = Ytrain.reshape(Ytrain.shape[0],1)\n",
    "    Ytest = test.iloc[:,emotion].values.astype('int32')\n",
    "    Ytest = Ytest.reshape(Ytest.shape[0],1)\n",
    "    len_train = (train.iloc[:,7].values).astype('int32')\n",
    "    len_test = (test.iloc[:,7].values).astype('int32')\n",
    "    return Xtrain,Xtest,Ytrain,Ytest"
   ]
  },
  {
   "cell_type": "code",
   "execution_count": null,
   "metadata": {},
   "outputs": [],
   "source": [
    "txt_field = data.Field(sequential = True,tokenize = tokenize,include_lengths = False, use_vocab = True)\n",
    "label_field = data.Field(sequential = False,use_vocab=False,pad_token=None,unk_token=None)\n",
    "train_val_fields = [('EssayText',txt_field),('Personality',label_field)]"
   ]
  },
  {
   "cell_type": "code",
   "execution_count": null,
   "metadata": {},
   "outputs": [],
   "source": [
    "_,_,Ytrain,Ytest = train_test_data(df,2)"
   ]
  },
  {
   "cell_type": "code",
   "execution_count": null,
   "metadata": {},
   "outputs": [],
   "source": [
    "train,val = data.TabularDataset.splits(path = '.',format = 'csv',train='train2.csv',validation = 'test2.csv',fields = train_val_fields)"
   ]
  },
  {
   "cell_type": "code",
   "execution_count": null,
   "metadata": {},
   "outputs": [],
   "source": [
    "vec = vocab.Vectors('glove.6B.100d.txt','/home/sanchit/Desktop/DetectSarcasmUsingCNN/GloVe')"
   ]
  },
  {
   "cell_type": "code",
   "execution_count": null,
   "metadata": {},
   "outputs": [],
   "source": [
    "txt_field.build_vocab(train,val,max_size = 100000,vectors = vec)"
   ]
  },
  {
   "cell_type": "code",
   "execution_count": null,
   "metadata": {},
   "outputs": [],
   "source": [
    "label_field.build_vocab(train)\n",
    "print(txt_field.vocab.vectors.shape)\n",
    "device = torch.device('cuda' if torch.cuda.is_available() else 'cpu')"
   ]
  },
  {
   "cell_type": "code",
   "execution_count": null,
   "metadata": {},
   "outputs": [],
   "source": [
    "traindl,valdl = data.BucketIterator.splits(datasets=(train,val),batch_size = 16,device = device)"
   ]
  },
  {
   "cell_type": "code",
   "execution_count": null,
   "metadata": {},
   "outputs": [],
   "source": [
    "class BatchGenerator:\n",
    "    def __init__(self, dl, x_field, y_field):\n",
    "        self.dl, self.x_field, self.y_field = dl, x_field, y_field\n",
    "        \n",
    "    def __len__(self):\n",
    "        return len(self.dl)\n",
    "    \n",
    "    def __iter__(self):\n",
    "        for batch in self.dl:\n",
    "            X = getattr(batch, self.x_field)\n",
    "            y = getattr(batch, self.y_field)\n",
    "            yield (X,y)"
   ]
  },
  {
   "cell_type": "code",
   "execution_count": null,
   "metadata": {},
   "outputs": [],
   "source": [
    "train_batch_it = BatchGenerator(traindl, 'EssayText', 'Personality')"
   ]
  },
  {
   "cell_type": "code",
   "execution_count": null,
   "metadata": {},
   "outputs": [],
   "source": [
    "class CNN1d(nn.Module):\n",
    "    def __init__(self,vocab_size,embedding_dm,pad_idx):\n",
    "        super().__init__()\n",
    "        self.embedding = nn.Embedding(vocab_size,embedding_dim,padding_idx = pad_idx)\n",
    "        self.convs = nn.ModuleList([nn.Conv2d(in_channels = 1,out_channels = 50,kernel_size = (1,fs)) for fs in (3,4,5)])\n",
    "        self.conv2 = nn.Conv2d(in_channels = 50,out_channels = 100,kernel_size = (1,2))\n",
    "        self.fc1 = nn.Linear(100000,150) #Change this \n",
    "        self.fc2 = nn.Linear(150,1)\n",
    "        self.dropout = nn.Dropout(0.5)\n",
    "    def forward(self,text):\n",
    "        print(\"text\",text.size())\n",
    "        embedded = self.embedding(text.T)\n",
    "        embedded = embedded.permute(0, 2,1)\n",
    "        print(\"embedded\",embedded.size())\n",
    "        x=embedded.size(2)\n",
    "        y=3000-x\n",
    "        print(y)\n",
    "        batch_size=embedded.size(0)\n",
    "        z=np.zeros((batch_size,100,y))\n",
    "        z1=torch.from_numpy(z).float()\n",
    "        lz=[embedded,z1]\n",
    "        #print(type(lz))\n",
    "        zcat = torch.cat(lz, dim = 2)\n",
    "        print(\"zcat\",zcat.size())\n",
    "        zcat2=zcat.reshape([batch_size, 1, 100, 3000])\n",
    "        print(\"zcat2\",zcat2.size())\n",
    "#         embedded = embedded.reshape([embedded.shape[0],1,])\n",
    "        print(embedded.size(),\"embedding\")\n",
    "        conved = [F.relu(conv(zcat2)) for conv in self.convs]\n",
    "        pooled = [F.max_pool2d(conv,(1,2)) for conv in conved]\n",
    "        print(\"Pool\")\n",
    "        for pl in pooled:\n",
    "            print(pl.size())\n",
    "        cat = torch.cat(pooled,dim = 2)\n",
    "        print(\"cat\",cat.size())\n",
    "        conved2 = F.relu(self.conv2(cat))\n",
    "        print(\"conved2\",conved2.size())\n",
    "        pooled2 = F.max_pool2d(conved2,(1,2))\n",
    "        print(pooled2.size(),\"pooled2\")\n",
    "        return 0\n",
    "#         return pooled2"
   ]
  },
  {
   "cell_type": "code",
   "execution_count": null,
   "metadata": {},
   "outputs": [],
   "source": [
    "input_dim = len(txt_field.vocab)\n",
    "embedding_dim = 100\n",
    "pad_idx = txt_field.vocab.stoi[txt_field.pad_token]\n",
    "model = CNN1d(input_dim,embedding_dim,pad_idx)"
   ]
  },
  {
   "cell_type": "code",
   "execution_count": null,
   "metadata": {},
   "outputs": [],
   "source": [
    "def count_parameters(model):\n",
    "    return sum(p.numel() for p in model.parameters() if p.requires_grad)\n",
    "\n",
    "print(f'The model has {count_parameters(model):,} trainable parameters')\n",
    "\n"
   ]
  },
  {
   "cell_type": "code",
   "execution_count": null,
   "metadata": {},
   "outputs": [],
   "source": [
    "pretrained_embeddings = txt_field.vocab.vectors\n",
    "model.embedding.weight.data.copy_(pretrained_embeddings)"
   ]
  },
  {
   "cell_type": "code",
   "execution_count": null,
   "metadata": {},
   "outputs": [],
   "source": [
    "unk_idx = txt_field.vocab.stoi[txt_field.unk_token]\n",
    "model.embedding.weight.data[unk_idx] = torch.zeros(100)\n",
    "model.embedding.weight.data[pad_idx] = torch.zeros(100)"
   ]
  },
  {
   "cell_type": "code",
   "execution_count": null,
   "metadata": {},
   "outputs": [],
   "source": [
    "import torch.optim as optim\n",
    "\n",
    "optimizer = optim.Adam(model.parameters())\n",
    "\n",
    "criterion = nn.BCEWithLogitsLoss()\n",
    "\n",
    "model = model.to(device)\n",
    "criterion = criterion.to(device)"
   ]
  },
  {
   "cell_type": "code",
   "execution_count": null,
   "metadata": {},
   "outputs": [],
   "source": [
    "def binary_accuracy(preds, y):\n",
    "    \"\"\"\n",
    "    Returns accuracy per batch, i.e. if you get 8/10 right, this returns 0.8, NOT 8\n",
    "    \"\"\"\n",
    "\n",
    "    #round predictions to the closest integer\n",
    "    rounded_preds = torch.round(torch.sigmoid(preds))\n",
    "    correct = (rounded_preds == y).float() #convert into float for division \n",
    "    acc = correct.sum() / len(correct)\n",
    "    return acc"
   ]
  },
  {
   "cell_type": "code",
   "execution_count": null,
   "metadata": {},
   "outputs": [],
   "source": [
    "def train(model,iterator,optimizer,criterion):\n",
    "    epoch_loss = 0\n",
    "    epoch_acc = 0\n",
    "    model.train()\n",
    "    for batch in iterator:\n",
    "        optimizer.zero_grad()\n",
    "        predictions = model(batch.EssayText).squeeze(1)\n",
    "        loss = criterion(predictions,batch.Personality)\n",
    "        acc = binary_accuracy(predictions,batch.label)\n",
    "        \n",
    "        loss.backward()\n",
    "        optimizer.step()\n",
    "        epoch_loss += loss.item()\n",
    "        epoch_acc += acc.item()\n",
    "    return epoch_loss/len(iterator),epoch_acc/len(iterator)"
   ]
  },
  {
   "cell_type": "code",
   "execution_count": null,
   "metadata": {},
   "outputs": [],
   "source": [
    "def evaluate(model,iterator,criterion):\n",
    "    epoch_loss = 0\n",
    "    epoch_acc = 0\n",
    "    model.eval()\n",
    "    with torch.no_grad():\n",
    "        for batch in iterator:\n",
    "            predictions = model(batch.EssayText).squeeze(1)\n",
    "            loss = criterion(predictions,batch.Personality)\n",
    "            acc = binary_accuracy(predictions,batch.label)\n",
    "            epoch_loss += loss.item()\n",
    "            epoch_acc += acc.item()\n",
    "    return epoch_loss/len(iterator),epoch_acc/len(iterator)        "
   ]
  },
  {
   "cell_type": "code",
   "execution_count": null,
   "metadata": {},
   "outputs": [],
   "source": [
    "import time\n",
    "\n",
    "def epoch_time(start_time, end_time):\n",
    "    elapsed_time = end_time - start_time\n",
    "    elapsed_mins = int(elapsed_time / 60)\n",
    "    elapsed_secs = int(elapsed_time - (elapsed_mins * 60))\n",
    "    return elapsed_mins, elapsed_secs"
   ]
  },
  {
   "cell_type": "code",
   "execution_count": null,
   "metadata": {},
   "outputs": [],
   "source": [
    "N_EPOCHS = 1\n",
    "\n",
    "best_valid_loss = float('inf')\n",
    "\n",
    "for epoch in range(N_EPOCHS):\n",
    "\n",
    "    start_time = time.time()\n",
    "    \n",
    "    train_loss, train_acc = train(model, traindl, optimizer, criterion)\n",
    "    valid_loss, valid_acc = evaluate(model, valdl, criterion)\n",
    "    \n",
    "    end_time = time.time()\n",
    "\n",
    "    epoch_mins, epoch_secs = epoch_time(start_time, end_time)\n",
    "    \n",
    "    if valid_loss < best_valid_loss:\n",
    "        best_valid_loss = valid_loss\n",
    "        torch.save(model.state_dict(), 'tut4-model.pt')\n",
    "    \n",
    "    print(f'Epoch: {epoch+1:02} | Epoch Time: {epoch_mins}m {epoch_secs}s')\n",
    "    print(f'\\tTrain Loss: {train_loss:.3f} | Train Acc: {train_acc*100:.2f}%')\n",
    "    print(f'\\t Val. Loss: {valid_loss:.3f} |  Val. Acc: {valid_acc*100:.2f}%')\n",
    "\n"
   ]
  },
  {
   "cell_type": "code",
   "execution_count": null,
   "metadata": {},
   "outputs": [],
   "source": [
    "# def fit(model, train_dl, val_dl, loss_fn, opt, epochs=3):\n",
    "#     num_batch = len(train_dl)\n",
    "#     for epoch in tnrange(epochs):      \n",
    "#         y_true_train = list()\n",
    "#         y_pred_train = list()\n",
    "#         total_loss_train = 0          \n",
    "        \n",
    "#         t = tqdm_notebook(iter(train_dl), leave=False, total=num_batch)\n",
    "#         for (X,lengths),y in t:\n",
    "#             t.set_description(f'Epoch {epoch}')\n",
    "#             lengths = lengths.cpu().numpy()\n",
    "            \n",
    "#             opt.zero_grad()\n",
    "#             pred = model(X, lengths)\n",
    "#             loss = loss_fn(pred, y)\n",
    "#             loss.backward()\n",
    "#             opt.step()\n",
    "            \n",
    "#             t.set_postfix(loss=loss.item())\n",
    "#             pred_idx = torch.max(pred, dim=1)[1]\n",
    "            \n",
    "#             y_true_train += list(y.cpu().data.numpy())\n",
    "#             y_pred_train += list(pred_idx.cpu().data.numpy())\n",
    "#             total_loss_train += loss.item()\n",
    "            \n",
    "#         train_acc = accuracy_score(y_true_train, y_pred_train)\n",
    "#         train_loss = total_loss_train/len(train_dl)\n",
    "        \n",
    "#         if val_dl:\n",
    "#             y_true_val = list()\n",
    "#             y_pred_val = list()\n",
    "#             total_loss_val = 0\n",
    "#             for (X,lengths),y in tqdm_notebook(val_dl, leave=False):\n",
    "#                 pred = model(X, lengths.cpu().numpy())\n",
    "#                 loss = loss_fn(pred, y)\n",
    "#                 pred_idx = torch.max(pred, 1)[1]\n",
    "#                 y_true_val += list(y.cpu().data.numpy())\n",
    "#                 y_pred_val += list(pred_idx.cpu().data.numpy())\n",
    "#                 total_loss_val += loss.item()\n",
    "#             valacc = accuracy_score(y_true_val, y_pred_val)\n",
    "#             valloss = total_loss_val/len(valdl)\n",
    "#             print(f'Epoch {epoch}: train_loss: {train_loss:.4f} train_acc: {train_acc:.4f} | val_loss: {valloss:.4f} val_acc: {valacc:.4f}')\n",
    "#         else:\n",
    "#             print(f'Epoch {epoch}: train_loss: {train_loss:.4f} train_acc: {train_acc:.4f}')\n"
   ]
  },
  {
   "cell_type": "code",
   "execution_count": null,
   "metadata": {},
   "outputs": [],
   "source": [
    "val_batch_it = BatchGenerator(valdl, 'EssayText', 'Personality')"
   ]
  },
  {
   "cell_type": "code",
   "execution_count": null,
   "metadata": {},
   "outputs": [],
   "source": [
    "fit(model,train_batch_it,val_batch_it,F.nll_loss,optimizer,1)"
   ]
  },
  {
   "cell_type": "code",
   "execution_count": null,
   "metadata": {},
   "outputs": [],
   "source": []
  }
 ],
 "metadata": {
  "kernelspec": {
   "display_name": "Python 3.6.3 64-bit ('winter': conda)",
   "language": "python",
   "name": "python36364bitwintercondaf3e492bd2bd54bde8730e9e3071c1545"
  },
  "language_info": {
   "codemirror_mode": {
    "name": "ipython",
    "version": 3
   },
   "file_extension": ".py",
   "mimetype": "text/x-python",
   "name": "python",
   "nbconvert_exporter": "python",
   "pygments_lexer": "ipython3",
   "version": "3.6.3"
  }
 },
 "nbformat": 4,
 "nbformat_minor": 2
}
