{
 "cells": [
  {
   "cell_type": "code",
   "execution_count": 1,
   "metadata": {},
   "outputs": [],
   "source": [
    "import torch\n",
    "import pandas as pd\n",
    "import numpy as np\n",
    "from sklearn.model_selection import train_test_split"
   ]
  },
  {
   "cell_type": "code",
   "execution_count": 12,
   "metadata": {},
   "outputs": [],
   "source": [
    "df = pd.read_pickle('datasets/clean_essays.pkl')"
   ]
  },
  {
   "cell_type": "code",
   "execution_count": 16,
   "metadata": {},
   "outputs": [
    {
     "data": {
      "text/plain": [
       "['Well',\n",
       " ',',\n",
       " 'right',\n",
       " 'now',\n",
       " 'I',\n",
       " 'just',\n",
       " 'woke',\n",
       " 'up',\n",
       " 'from',\n",
       " 'a',\n",
       " 'mid-day',\n",
       " 'nap',\n",
       " '.']"
      ]
     },
     "execution_count": 16,
     "metadata": {},
     "output_type": "execute_result"
    }
   ],
   "source": [
    "df = df.dropna(how = 'all')\n",
    "df.iloc[:,1][0][0]"
   ]
  },
  {
   "cell_type": "code",
   "execution_count": 22,
   "metadata": {},
   "outputs": [],
   "source": [
    "def convert_to_forms(df): \n",
    "    \n",
    "    '''\n",
    "    Description:\n",
    "    Shuffles the dataframe and splits the dataframe into training and testing sets\n",
    "    \n",
    "    Returns:\n",
    "    X_train -- Training set of input features\n",
    "    X_test -- Testing set of input features\n",
    "    \n",
    "    Y_train -- Ground truth of training set\n",
    "    Y_test -- Ground truth of testing set\n",
    "    \n",
    "    len_train -- Length of training set\n",
    "    len_test -- Length of testing set\n",
    "        \n",
    "    '''\n",
    "    \n",
    "    g = np.arange( len(df) )\n",
    "    np.random.shuffle(g)\n",
    "\n",
    "    X = np.asarray((df.iloc[:,1].values)[g])\n",
    "    X = np.reshape(X,newshape = (X.shape[0],1))\n",
    "#     print(X.shape,\"X in total\")\n",
    "    lengths = np.asarray(df.iloc[:,7],dtype = np.int32)\n",
    "#     print(lengths,\"Lengths in sentence\")\n",
    "    lengths = (np.reshape(lengths,newshape = (lengths.shape[0],1)))[g]   \n",
    "    print(lengths)\n",
    "    Y = np.asarray(df.iloc[:,4],dtype = np.int32)\n",
    "    Y = (np.reshape(Y,newshape = (Y.shape[0],1)))[g]\n",
    "\n",
    "    X_train = np.reshape(X[0:1984,0],newshape = (1984,1))\n",
    "    X_test = np.reshape(X[1984:,0], newshape = (483,1))\n",
    "\n",
    "    Y_train = np.reshape(Y[0:1984,0], newshape = (1984,1))\n",
    "    Y_test = np.reshape(Y[1984:,0], newshape = (483,1))\n",
    "    \n",
    "    len_train = lengths[0:1984,0]\n",
    "    len_test = lengths[1984:,0]\n",
    "    \n",
    "    return X_train,Y_train,len_train,X_test,Y_test,len_test"
   ]
  },
  {
   "cell_type": "code",
   "execution_count": 29,
   "metadata": {},
   "outputs": [
    {
     "name": "stdout",
     "output_type": "stream",
     "text": [
      "(2467, 1) X in total\n",
      "[ 35  88  64 ...  18  59 107] Lengths in sentence\n"
     ]
    },
    {
     "data": {
      "text/plain": [
       "array([46, 52, 57, ..., 33, 42, 54], dtype=int32)"
      ]
     },
     "execution_count": 29,
     "metadata": {},
     "output_type": "execute_result"
    }
   ],
   "source": [
    "X_train,Y_train,len_train,X_test,Y_test,len_test = convert_to_forms(df)\n",
    "len_train"
   ]
  },
  {
   "cell_type": "code",
   "execution_count": 37,
   "metadata": {},
   "outputs": [],
   "source": [
    "def train_test_data(df,emotion = 2):\n",
    "    '''\n",
    "        Dividing the dataset into train and test\n",
    "        input:\n",
    "        df -- Pickled dataset\n",
    "        emotion -- Which emotion to be trained on\n",
    "        \n",
    "        Returns:\n",
    "        Xtrain: Training set of i/p features\n",
    "        Xtest: Testing set of i/p features\n",
    "        Ytrain: Ground truth for training data\n",
    "        Ytest: Ground truth for testing data\n",
    "        len_train: Length of sentences in training data\n",
    "        len_test: Length of sentences in testing data\n",
    "    '''\n",
    "    \n",
    "    df.dropna(how='all')\n",
    "    train, test = train_test_split(df, train_size=0.8)\n",
    "    Xtrain = train.iloc[:,1].values #getting the list of words for Word Vec\n",
    "    Xtrain = Xtrain.reshape((Xtrain.shape[0],1))\n",
    "    Xtest = test.iloc[:,1].values\n",
    "    Xtest = Xtest.reshape((Xtest.shape[0],1))\n",
    "    Ytrain = train.iloc[:,1].values\n",
    "    Ytrain = Ytrain.reshape(Ytrain.shape[0],1)\n",
    "    Ytest = test.iloc[:,emotion].values.astype('int32')\n",
    "    Ytest = Ytest.reshape(Ytest.shape[0],1)\n",
    "    len_train = (train.iloc[:,7].values).astype('int32')\n",
    "    len_test = (test.iloc[:,7].values).astype('int32')\n",
    "    return Xtrain,Xtest,Ytrain,Ytest,len_train,len_test"
   ]
  },
  {
   "cell_type": "code",
   "execution_count": 38,
   "metadata": {},
   "outputs": [
    {
     "data": {
      "text/plain": [
       "array([ 70, 100,  23, ...,  15,  87,  47], dtype=int32)"
      ]
     },
     "execution_count": 38,
     "metadata": {},
     "output_type": "execute_result"
    }
   ],
   "source": []
  },
  {
   "cell_type": "code",
   "execution_count": null,
   "metadata": {},
   "outputs": [],
   "source": []
  }
 ],
 "metadata": {
  "kernelspec": {
   "display_name": "Python 3.6.3 64-bit ('winter': conda)",
   "language": "python",
   "name": "python36364bitwintercondaf3e492bd2bd54bde8730e9e3071c1545"
  },
  "language_info": {
   "codemirror_mode": {
    "name": "ipython",
    "version": 3
   },
   "file_extension": ".py",
   "mimetype": "text/x-python",
   "name": "python",
   "nbconvert_exporter": "python",
   "pygments_lexer": "ipython3",
   "version": "3.6.3"
  }
 },
 "nbformat": 4,
 "nbformat_minor": 2
}
