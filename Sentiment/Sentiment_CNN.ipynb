{
  "nbformat": 4,
  "nbformat_minor": 0,
  "metadata": {
    "colab": {
      "name": "Sentiment CNN.ipynb",
      "provenance": [],
      "collapsed_sections": []
    },
    "kernelspec": {
      "name": "python3",
      "display_name": "Python 3"
    },
    "language_info": {
      "codemirror_mode": {
        "name": "ipython",
        "version": 3
      },
      "file_extension": ".py",
      "mimetype": "text/x-python",
      "name": "python",
      "nbconvert_exporter": "python",
      "pygments_lexer": "ipython3",
      "version": "3.7.4"
    },
    "accelerator": "GPU"
  },
  "cells": [
    {
      "cell_type": "code",
      "metadata": {
        "colab_type": "code",
        "id": "NWIaSz72hPDO",
        "colab": {
          "base_uri": "https://localhost:8080/",
          "height": 52
        },
        "outputId": "13ee9018-87a9-48aa-93f3-b704df5465b2"
      },
      "source": [
        "import torch\n",
        "from torchtext import data\n",
        "from torchtext import datasets\n",
        "import random\n",
        "import numpy as np\n",
        "\n",
        "import spacy\n",
        "nlp = spacy.load('en')\n",
        "\n",
        "SEED = 1234\n",
        "\n",
        "random.seed(SEED)\n",
        "np.random.seed(SEED)\n",
        "torch.manual_seed(SEED)\n",
        "torch.backends.cudnn.deterministic = True\n",
        "\n",
        "TEXT = data.Field(tokenize = 'spacy', batch_first = True)\n",
        "LABEL = data.LabelField(dtype = torch.float)\n",
        "\n",
        "train_data, test_data = datasets.IMDB.splits(TEXT, LABEL)\n",
        "train_data, valid_data = train_data.split(random_state = random.seed(SEED))"
      ],
      "execution_count": 1,
      "outputs": [
        {
          "output_type": "stream",
          "text": [
            "downloading aclImdb_v1.tar.gz\n"
          ],
          "name": "stdout"
        },
        {
          "output_type": "stream",
          "text": [
            "aclImdb_v1.tar.gz: 100%|██████████| 84.1M/84.1M [00:09<00:00, 8.86MB/s]\n"
          ],
          "name": "stderr"
        }
      ]
    },
    {
      "cell_type": "code",
      "metadata": {
        "colab_type": "code",
        "id": "UkXAk0G6hPDW",
        "outputId": "67477f30-6e50-4694-e20b-570ff66bdd38",
        "colab": {
          "base_uri": "https://localhost:8080/",
          "height": 52
        }
      },
      "source": [
        "TEXT.build_vocab(train_data, max_size = 10000,vectors = \"glove.6B.300d\", unk_init = torch.Tensor.normal_)\n",
        "LABEL.build_vocab(train_data)"
      ],
      "execution_count": 3,
      "outputs": [
        {
          "output_type": "stream",
          "text": [
            ".vector_cache/glove.6B.zip: 862MB [06:31, 2.20MB/s]                           \n",
            "100%|█████████▉| 399356/400000 [00:38<00:00, 10749.79it/s]"
          ],
          "name": "stderr"
        }
      ]
    },
    {
      "cell_type": "code",
      "metadata": {
        "colab_type": "code",
        "id": "m0C-tjiWhPDa",
        "colab": {}
      },
      "source": [
        "BATCH_SIZE = 16\n",
        "device = torch.device('cuda' if torch.cuda.is_available() else 'cpu')\n",
        "\n",
        "train_iterator, valid_iterator, test_iterator = data.BucketIterator.splits(\n",
        "    (train_data, valid_data, test_data), \n",
        "    batch_size = BATCH_SIZE, \n",
        "    device = device)"
      ],
      "execution_count": 0,
      "outputs": []
    },
    {
      "cell_type": "code",
      "metadata": {
        "colab_type": "code",
        "id": "GJnSGZ0IhPDe",
        "colab": {}
      },
      "source": [
        "import torch.nn as nn\n",
        "import torch.nn.functional as F"
      ],
      "execution_count": 0,
      "outputs": []
    },
    {
      "cell_type": "code",
      "metadata": {
        "colab_type": "code",
        "id": "f4zxe-uahPDk",
        "colab": {}
      },
      "source": [
        "class CNN1d(nn.Module):\n",
        "    def __init__(self, vocab_size, embedding_dim, dropout, pad_idx):\n",
        "        super().__init__()\n",
        "        self.embedding = nn.Embedding(vocab_size, embedding_dim, padding_idx = pad_idx)\n",
        "        self.convs = nn.ModuleList([nn.Conv1d(in_channels = embedding_dim, out_channels = 150, kernel_size = fs)for fs in [4,5]])\n",
        "        self.conv2 = nn.Conv1d(in_channels = 1, out_channels = 100, kernel_size = 3)              \n",
        "        self.fc1 = nn.Linear(200, 100) \n",
        "        self.fc2=nn.Linear(100,1)\n",
        "        \n",
        "    def forward(self, text):\n",
        "\n",
        "        embedded = self.embedding(text)        \n",
        "        embedded = embedded.permute(0, 2, 1)\n",
        "\n",
        "        sent_len=embedded.size(2)\n",
        "        padding=3000-sent_len\n",
        "        batch_size=embedded.size(0)\n",
        "        torch_padding=torch.zeros(batch_size,300,padding,dtype = embedded.dtype,device = embedded.device)\n",
        "        lz=[embedded,torch_padding]\n",
        "        zcat = torch.cat(lz, dim = 2)\n",
        "\n",
        "        conved = [F.relu(conv(zcat)) for conv in self.convs]\n",
        "\n",
        "        pooled=[]\n",
        "        for c in conved:\n",
        "          pooled.append(F.max_pool1d(c,c.shape[2]))\n",
        "\n",
        "        pooled = [f.permute(0,2,1) for f in pooled]\n",
        "\n",
        "        pooled2 = [F.max_pool1d(p, 2) for p in pooled]\n",
        "\n",
        "        pooled3 = [F.relu(self.conv2(p1)) for p1 in pooled2]\n",
        "\n",
        "        pooled4=[]\n",
        "        for c in pooled3:\n",
        "            pooled4.append(F.max_pool1d(c,c.shape[2]))\n",
        "\n",
        "        final = torch.cat(pooled4,dim = 1)\n",
        "        final = final.reshape(batch_size,200)\n",
        "        full1 = self.fc1(final)\n",
        "        full2= self.fc2(full1)\n",
        "        return full2\n"
      ],
      "execution_count": 0,
      "outputs": []
    },
    {
      "cell_type": "code",
      "metadata": {
        "colab_type": "code",
        "id": "OA6eyQwfhPDn",
        "colab": {
          "base_uri": "https://localhost:8080/",
          "height": 34
        },
        "outputId": "d8bf87f6-6e8b-4468-db8e-efec5486b3b8"
      },
      "source": [
        "INPUT_DIM = len(TEXT.vocab)\n",
        "EMBEDDING_DIM = 300\n",
        "DROPOUT = 0.5\n",
        "PAD_IDX = TEXT.vocab.stoi[TEXT.pad_token]\n",
        "model = CNN1d(INPUT_DIM, EMBEDDING_DIM, DROPOUT, PAD_IDX)"
      ],
      "execution_count": 8,
      "outputs": [
        {
          "output_type": "stream",
          "text": [
            "10002 1\n"
          ],
          "name": "stdout"
        }
      ]
    },
    {
      "cell_type": "code",
      "metadata": {
        "colab_type": "code",
        "id": "aS9MK8DJhPDp",
        "outputId": "a1fa10a8-6cb2-4310-f022-1a3f49834bcf",
        "colab": {
          "base_uri": "https://localhost:8080/",
          "height": 34
        }
      },
      "source": [
        "def count_parameters(model):\n",
        "    return sum(p.numel() for p in model.parameters() if p.requires_grad)\n",
        "\n",
        "print(f'The model has {count_parameters(model):,} trainable parameters')"
      ],
      "execution_count": 9,
      "outputs": [
        {
          "output_type": "stream",
          "text": [
            "The model has 3,426,501 trainable parameters\n"
          ],
          "name": "stdout"
        }
      ]
    },
    {
      "cell_type": "code",
      "metadata": {
        "id": "_uopIQzm91Ck",
        "colab_type": "code",
        "outputId": "ccfee72a-eaa7-40e5-d0a6-2c54461b2604",
        "colab": {
          "base_uri": "https://localhost:8080/",
          "height": 208
        }
      },
      "source": [
        "for name, param in model.named_parameters():\n",
        "    if param.requires_grad:\n",
        "        print (name, param.data.shape)"
      ],
      "execution_count": 10,
      "outputs": [
        {
          "output_type": "stream",
          "text": [
            "embedding.weight torch.Size([10002, 300])\n",
            "convs.0.weight torch.Size([150, 300, 4])\n",
            "convs.0.bias torch.Size([150])\n",
            "convs.1.weight torch.Size([150, 300, 5])\n",
            "convs.1.bias torch.Size([150])\n",
            "conv2.weight torch.Size([100, 1, 3])\n",
            "conv2.bias torch.Size([100])\n",
            "fc1.weight torch.Size([100, 200])\n",
            "fc1.bias torch.Size([100])\n",
            "fc2.weight torch.Size([1, 100])\n",
            "fc2.bias torch.Size([1])\n"
          ],
          "name": "stdout"
        }
      ]
    },
    {
      "cell_type": "code",
      "metadata": {
        "id": "S39gBml_Dxyv",
        "colab_type": "code",
        "colab": {
          "base_uri": "https://localhost:8080/",
          "height": 228
        },
        "outputId": "4a9b70bb-5ffd-47f4-88ea-b1c6e891c4d7"
      },
      "source": [
        "print(model)\n",
        "print(dir(model))"
      ],
      "execution_count": 11,
      "outputs": [
        {
          "output_type": "stream",
          "text": [
            "CNN1d(\n",
            "  (embedding): Embedding(10002, 300, padding_idx=1)\n",
            "  (convs): ModuleList(\n",
            "    (0): Conv1d(300, 150, kernel_size=(4,), stride=(1,))\n",
            "    (1): Conv1d(300, 150, kernel_size=(5,), stride=(1,))\n",
            "  )\n",
            "  (conv2): Conv1d(1, 100, kernel_size=(3,), stride=(1,))\n",
            "  (fc1): Linear(in_features=200, out_features=100, bias=True)\n",
            "  (fc2): Linear(in_features=100, out_features=1, bias=True)\n",
            ")\n",
            "['__call__', '__class__', '__delattr__', '__dict__', '__dir__', '__doc__', '__eq__', '__format__', '__ge__', '__getattr__', '__getattribute__', '__gt__', '__hash__', '__init__', '__init_subclass__', '__le__', '__lt__', '__module__', '__ne__', '__new__', '__reduce__', '__reduce_ex__', '__repr__', '__setattr__', '__setstate__', '__sizeof__', '__str__', '__subclasshook__', '__weakref__', '_apply', '_backward_hooks', '_buffers', '_forward_hooks', '_forward_pre_hooks', '_get_name', '_load_from_state_dict', '_load_state_dict_pre_hooks', '_modules', '_named_members', '_parameters', '_register_load_state_dict_pre_hook', '_register_state_dict_hook', '_replicate_for_data_parallel', '_save_to_state_dict', '_slow_forward', '_state_dict_hooks', '_version', 'add_module', 'apply', 'buffers', 'children', 'conv2', 'convs', 'cpu', 'cuda', 'double', 'dump_patches', 'embedding', 'eval', 'extra_repr', 'fc1', 'fc2', 'float', 'forward', 'half', 'load_state_dict', 'modules', 'named_buffers', 'named_children', 'named_modules', 'named_parameters', 'parameters', 'register_backward_hook', 'register_buffer', 'register_forward_hook', 'register_forward_pre_hook', 'register_parameter', 'requires_grad_', 'share_memory', 'state_dict', 'to', 'train', 'training', 'type', 'zero_grad']\n"
          ],
          "name": "stdout"
        }
      ]
    },
    {
      "cell_type": "code",
      "metadata": {
        "colab_type": "code",
        "id": "4ohPJO7nhPDt",
        "colab": {}
      },
      "source": [
        "pretrained_embeddings = TEXT.vocab.vectors\n",
        "model.embedding.weight.data.copy_(pretrained_embeddings)"
      ],
      "execution_count": 0,
      "outputs": []
    },
    {
      "cell_type": "code",
      "metadata": {
        "colab_type": "code",
        "id": "7ada_hkAhPDv",
        "colab": {}
      },
      "source": [
        "UNK_IDX = TEXT.vocab.stoi[TEXT.unk_token]\n",
        "\n",
        "model.embedding.weight.data[UNK_IDX] = torch.zeros(EMBEDDING_DIM)\n",
        "model.embedding.weight.data[PAD_IDX] = torch.zeros(EMBEDDING_DIM)"
      ],
      "execution_count": 0,
      "outputs": []
    },
    {
      "cell_type": "code",
      "metadata": {
        "colab_type": "code",
        "id": "9155siYxhPDy",
        "colab": {}
      },
      "source": [
        "import torch.optim as optim\n",
        "optimizer = optim.Adam(model.parameters())\n",
        "criterion = nn.BCEWithLogitsLoss()\n",
        "model = model.to(device)\n",
        "criterion = criterion.to(device)"
      ],
      "execution_count": 0,
      "outputs": []
    },
    {
      "cell_type": "code",
      "metadata": {
        "colab_type": "code",
        "id": "4QnSRBeThPD0",
        "colab": {}
      },
      "source": [
        "def binary_accuracy(preds, y):\n",
        "    #Returns accuracy per batch, i.e. for 8/10 right, this returns 0.8 #round predictions to the closest integer\n",
        "    rounded_preds = torch.round(torch.sigmoid(preds))\n",
        "    correct = (rounded_preds == y).float() #convert into float for division \n",
        "    acc = correct.sum() / len(correct)\n",
        "    return acc"
      ],
      "execution_count": 0,
      "outputs": []
    },
    {
      "cell_type": "code",
      "metadata": {
        "colab_type": "code",
        "id": "EreMcy5OhPD1",
        "colab": {}
      },
      "source": [
        "def train(model, iterator, optimizer, criterion):\n",
        "    epoch_loss = 0\n",
        "    epoch_acc = 0\n",
        "    model.train() #to ensure the dropout is \"turned on\" while training.\n",
        "    for batch in iterator:\n",
        "        optimizer.zero_grad()\n",
        "        predictions = model(batch.text).squeeze(1)\n",
        "        loss = criterion(predictions, batch.label)\n",
        "        acc = binary_accuracy(predictions, batch.label)\n",
        "        loss.backward()\n",
        "        optimizer.step()\n",
        "        epoch_loss += loss.item()\n",
        "        epoch_acc += acc.item()\n",
        "        \n",
        "    return epoch_loss / len(iterator), epoch_acc / len(iterator)"
      ],
      "execution_count": 0,
      "outputs": []
    },
    {
      "cell_type": "code",
      "metadata": {
        "colab_type": "code",
        "id": "0eWOlLZdhPD3",
        "colab": {}
      },
      "source": [
        "def evaluate(model, iterator, criterion):\n",
        "    epoch_loss = 0\n",
        "    epoch_acc = 0\n",
        "    model.eval() #to ensure the dropout is \"turned off\" while evaluating.\n",
        "    with torch.no_grad():\n",
        "        for batch in iterator:\n",
        "            predictions = model(batch.text).squeeze(1)\n",
        "            loss = criterion(predictions, batch.label)\n",
        "            acc = binary_accuracy(predictions, batch.label)\n",
        "            epoch_loss += loss.item()\n",
        "            epoch_acc += acc.item()\n",
        "        \n",
        "    return epoch_loss / len(iterator), epoch_acc / len(iterator)"
      ],
      "execution_count": 0,
      "outputs": []
    },
    {
      "cell_type": "code",
      "metadata": {
        "colab_type": "code",
        "id": "-gQsuGs2hPD5",
        "colab": {}
      },
      "source": [
        "import time\n",
        "def epoch_time(start_time, end_time):\n",
        "    elapsed_time = end_time - start_time\n",
        "    elapsed_mins = int(elapsed_time / 60)\n",
        "    elapsed_secs = int(elapsed_time - (elapsed_mins * 60))\n",
        "    return elapsed_mins, elapsed_secs"
      ],
      "execution_count": 0,
      "outputs": []
    },
    {
      "cell_type": "code",
      "metadata": {
        "colab_type": "code",
        "id": "qTKCHpdvhPD7",
        "scrolled": true,
        "outputId": "f29de947-d1e2-46cc-ddd4-cb21212707fa",
        "colab": {
          "base_uri": "https://localhost:8080/",
          "height": 537
        }
      },
      "source": [
        "N_EPOCHS = 10\n",
        "best_valid_loss = float('inf')\n",
        "for epoch in range(N_EPOCHS):\n",
        "    start_time = time.time()\n",
        "    train_loss, train_acc = train(model, train_iterator, optimizer, criterion)\n",
        "    valid_loss, valid_acc = evaluate(model, valid_iterator, criterion)\n",
        "    end_time = time.time()\n",
        "    epoch_mins, epoch_secs = epoch_time(start_time, end_time)\n",
        "    if valid_loss < best_valid_loss:\n",
        "        best_valid_loss = valid_loss\n",
        "        torch.save(model.state_dict(), './sentimentModel.pt')\n",
        "    \n",
        "    print(f'Epoch: {epoch+1:02} | Epoch Time: {epoch_mins}m {epoch_secs}s')\n",
        "    print(f'\\tTrain Loss: {train_loss:.3f} | Train Acc: {train_acc*100:.2f}%')\n",
        "    print(f'\\t Val. Loss: {valid_loss:.3f} |  Val. Acc: {valid_acc*100:.2f}%')"
      ],
      "execution_count": 20,
      "outputs": [
        {
          "output_type": "stream",
          "text": [
            "Epoch: 01 | Epoch Time: 1m 19s\n",
            "\tTrain Loss: 0.589 | Train Acc: 65.21%\n",
            "\t Val. Loss: 0.409 |  Val. Acc: 81.55%\n",
            "Epoch: 02 | Epoch Time: 1m 18s\n",
            "\tTrain Loss: 0.345 | Train Acc: 85.33%\n",
            "\t Val. Loss: 0.357 |  Val. Acc: 84.04%\n",
            "Epoch: 03 | Epoch Time: 1m 18s\n",
            "\tTrain Loss: 0.219 | Train Acc: 91.59%\n",
            "\t Val. Loss: 0.352 |  Val. Acc: 85.33%\n",
            "Epoch: 04 | Epoch Time: 1m 18s\n",
            "\tTrain Loss: 0.116 | Train Acc: 95.87%\n",
            "\t Val. Loss: 0.458 |  Val. Acc: 84.39%\n",
            "Epoch: 05 | Epoch Time: 1m 18s\n",
            "\tTrain Loss: 0.049 | Train Acc: 98.26%\n",
            "\t Val. Loss: 0.613 |  Val. Acc: 84.64%\n",
            "Epoch: 06 | Epoch Time: 1m 19s\n",
            "\tTrain Loss: 0.029 | Train Acc: 98.95%\n",
            "\t Val. Loss: 0.804 |  Val. Acc: 84.21%\n",
            "Epoch: 07 | Epoch Time: 1m 19s\n",
            "\tTrain Loss: 0.021 | Train Acc: 99.23%\n",
            "\t Val. Loss: 0.787 |  Val. Acc: 84.87%\n",
            "Epoch: 08 | Epoch Time: 1m 19s\n",
            "\tTrain Loss: 0.026 | Train Acc: 99.12%\n",
            "\t Val. Loss: 0.879 |  Val. Acc: 84.32%\n",
            "Epoch: 09 | Epoch Time: 1m 18s\n",
            "\tTrain Loss: 0.014 | Train Acc: 99.50%\n",
            "\t Val. Loss: 0.922 |  Val. Acc: 84.47%\n",
            "Epoch: 10 | Epoch Time: 1m 19s\n",
            "\tTrain Loss: 0.014 | Train Acc: 99.57%\n",
            "\t Val. Loss: 0.905 |  Val. Acc: 84.56%\n"
          ],
          "name": "stdout"
        }
      ]
    },
    {
      "cell_type": "code",
      "metadata": {
        "id": "-BiiiCcz48-D",
        "colab_type": "code",
        "colab": {
          "base_uri": "https://localhost:8080/",
          "height": 34
        },
        "outputId": "67b8c1ae-a465-4a5f-b421-7a5325204ef4"
      },
      "source": [
        "model.load_state_dict(torch.load('./sentimentModel.pt'))\n",
        "test_loss, test_acc = evaluate(model, test_iterator, criterion)\n",
        "\n",
        "print(f'Test Loss: {test_loss:.3f} | Test Acc: {test_acc*100:.2f}%')"
      ],
      "execution_count": 21,
      "outputs": [
        {
          "output_type": "stream",
          "text": [
            "Test Loss: 0.351 | Test Acc: 85.05%\n"
          ],
          "name": "stdout"
        }
      ]
    },
    {
      "cell_type": "code",
      "metadata": {
        "colab_type": "code",
        "id": "CAge-o7MhPEA",
        "colab": {}
      },
      "source": [
        "def predict_sentiment(model, sentence, min_len = 5):\n",
        "    model.eval()\n",
        "    tokenized = [tok.text for tok in nlp.tokenizer(sentence)]\n",
        "    if len(tokenized) < min_len:\n",
        "        tokenized += ['<pad>'] * (min_len - len(tokenized))\n",
        "    indexed = [TEXT.vocab.stoi[t] for t in tokenized]\n",
        "    tensor = torch.LongTensor(indexed).to(device)\n",
        "    tensor = tensor.unsqueeze(0)\n",
        "    prediction = torch.sigmoid(model(tensor))\n",
        "    return prediction.item()"
      ],
      "execution_count": 0,
      "outputs": []
    },
    {
      "cell_type": "code",
      "metadata": {
        "colab_type": "code",
        "id": "w-Q5NuqWhPEB",
        "outputId": "4e430255-6819-4855-d584-266f79373405",
        "colab": {
          "base_uri": "https://localhost:8080/",
          "height": 34
        }
      },
      "source": [
        "predict_sentiment(model, \"This is undoubtedly the best movie ever!!!\")"
      ],
      "execution_count": 28,
      "outputs": [
        {
          "output_type": "execute_result",
          "data": {
            "text/plain": [
              "0.9935504198074341"
            ]
          },
          "metadata": {
            "tags": []
          },
          "execution_count": 28
        }
      ]
    },
    {
      "cell_type": "code",
      "metadata": {
        "colab_type": "code",
        "id": "4MRX4wzthPED",
        "outputId": "a151a5ad-8573-44c9-e6c6-2eb4583b4110",
        "colab": {
          "base_uri": "https://localhost:8080/",
          "height": 34
        }
      },
      "source": [
        "predict_sentiment(model, \"I have to give this zero stars\")"
      ],
      "execution_count": 26,
      "outputs": [
        {
          "output_type": "execute_result",
          "data": {
            "text/plain": [
              "0.01589825190603733"
            ]
          },
          "metadata": {
            "tags": []
          },
          "execution_count": 26
        }
      ]
    },
    {
      "cell_type": "code",
      "metadata": {
        "id": "amZxJDMUly3K",
        "colab_type": "code",
        "outputId": "76280ca8-3b17-4b79-c88a-6c1a2f6d9a61",
        "colab": {
          "base_uri": "https://localhost:8080/",
          "height": 34
        }
      },
      "source": [
        "predict_sentiment(model, \"Good at being terrible \")"
      ],
      "execution_count": 27,
      "outputs": [
        {
          "output_type": "execute_result",
          "data": {
            "text/plain": [
              "0.005191510077565908"
            ]
          },
          "metadata": {
            "tags": []
          },
          "execution_count": 27
        }
      ]
    }
  ]
}