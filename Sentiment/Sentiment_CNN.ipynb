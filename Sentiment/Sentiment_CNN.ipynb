{
  "nbformat": 4,
  "nbformat_minor": 0,
  "metadata": {
    "colab": {
      "name": "Sentiment CNN.ipynb",
      "provenance": [],
      "collapsed_sections": []
    },
    "kernelspec": {
      "name": "python3",
      "display_name": "Python 3"
    },
    "language_info": {
      "codemirror_mode": {
        "name": "ipython",
        "version": 3
      },
      "file_extension": ".py",
      "mimetype": "text/x-python",
      "name": "python",
      "nbconvert_exporter": "python",
      "pygments_lexer": "ipython3",
      "version": "3.7.4"
    },
    "accelerator": "GPU"
  },
  "cells": [
    {
      "cell_type": "code",
      "metadata": {
        "colab_type": "code",
        "id": "NWIaSz72hPDO",
        "colab": {
          "base_uri": "https://localhost:8080/",
          "height": 52
        },
        "outputId": "fa1a1421-a31d-4496-ee2e-383bf07a56f3"
      },
      "source": [
        "import torch\n",
        "from torchtext import data\n",
        "from torchtext import datasets\n",
        "import random\n",
        "import numpy as np\n",
        "\n",
        "SEED = 1234\n",
        "\n",
        "random.seed(SEED)\n",
        "np.random.seed(SEED)\n",
        "torch.manual_seed(SEED)\n",
        "torch.backends.cudnn.deterministic = True\n",
        "\n",
        "TEXT = data.Field(tokenize = 'spacy', batch_first = True)\n",
        "LABEL = data.LabelField(dtype = torch.float)\n",
        "\n",
        "train_data, test_data = datasets.IMDB.splits(TEXT, LABEL)\n",
        "train_data, valid_data = train_data.split(random_state = random.seed(SEED))"
      ],
      "execution_count": 1,
      "outputs": [
        {
          "output_type": "stream",
          "text": [
            "aclImdb_v1.tar.gz:   0%|          | 147k/84.1M [00:00<01:03, 1.32MB/s]"
          ],
          "name": "stderr"
        },
        {
          "output_type": "stream",
          "text": [
            "downloading aclImdb_v1.tar.gz\n"
          ],
          "name": "stdout"
        },
        {
          "output_type": "stream",
          "text": [
            "aclImdb_v1.tar.gz: 100%|██████████| 84.1M/84.1M [00:01<00:00, 64.9MB/s]\n"
          ],
          "name": "stderr"
        }
      ]
    },
    {
      "cell_type": "code",
      "metadata": {
        "colab_type": "code",
        "id": "UkXAk0G6hPDW",
        "colab": {}
      },
      "source": [
        "TEXT.build_vocab(train_data, max_size = 10000,vectors = \"glove.6B.300d\", unk_init = torch.Tensor.normal_)\n",
        "LABEL.build_vocab(train_data)"
      ],
      "execution_count": 0,
      "outputs": []
    },
    {
      "cell_type": "code",
      "metadata": {
        "colab_type": "code",
        "id": "m0C-tjiWhPDa",
        "colab": {}
      },
      "source": [
        "BATCH_SIZE = 16\n",
        "device = torch.device('cuda' if torch.cuda.is_available() else 'cpu')\n",
        "\n",
        "train_iterator, valid_iterator, test_iterator = data.BucketIterator.splits(\n",
        "    (train_data, valid_data, test_data), \n",
        "    batch_size = BATCH_SIZE, \n",
        "    device = device)"
      ],
      "execution_count": 0,
      "outputs": []
    },
    {
      "cell_type": "code",
      "metadata": {
        "id": "JtQMpPt7K5b_",
        "colab_type": "code",
        "colab": {
          "base_uri": "https://localhost:8080/",
          "height": 34
        },
        "outputId": "9ae5921c-10ba-4e00-b87e-5bae93ba2b54"
      },
      "source": [
        "print(device)"
      ],
      "execution_count": 85,
      "outputs": [
        {
          "output_type": "stream",
          "text": [
            "cuda\n"
          ],
          "name": "stdout"
        }
      ]
    },
    {
      "cell_type": "code",
      "metadata": {
        "colab_type": "code",
        "id": "GJnSGZ0IhPDe",
        "colab": {}
      },
      "source": [
        "import torch.nn as nn\n",
        "import torch.nn.functional as F"
      ],
      "execution_count": 0,
      "outputs": []
    },
    {
      "cell_type": "code",
      "metadata": {
        "colab_type": "code",
        "id": "f4zxe-uahPDk",
        "colab": {}
      },
      "source": [
        "class CNN1d(nn.Module):\n",
        "    def __init__(self, vocab_size, embedding_dim, dropout, pad_idx):\n",
        "        super().__init__()\n",
        "        self.embedding = nn.Embedding(vocab_size, embedding_dim, padding_idx = pad_idx)\n",
        "        self.convs = nn.ModuleList([nn.Conv1d(in_channels = embedding_dim, out_channels = 150, kernel_size = fs)for fs in [4,5]])\n",
        "        self.conv2 = nn.Conv1d(in_channels = 1, out_channels = 100, kernel_size = 3)              \n",
        "        self.fc1 = nn.Linear(200, 100) \n",
        "        #self.fc1_bn=nn.BatchNorm1d(100)\n",
        "        self.fc2=nn.Linear(100,1)\n",
        "        #self.dropout = nn.Dropout(dropout)\n",
        "        \n",
        "    def forward(self, text):\n",
        "        #text = [batch size, sent len]\n",
        "        # print(text.size())\n",
        "        embedded = self.embedding(text)        \n",
        "        embedded = embedded.permute(0, 2, 1)\n",
        "\n",
        "        sent_len=embedded.size(2)\n",
        "        padding=3000-sent_len\n",
        "        batch_size=embedded.size(0)\n",
        "        torch_padding=torch.zeros(batch_size,300,padding,dtype = embedded.dtype,device = embedded.device)\n",
        "        lz=[embedded,torch_padding]\n",
        "        zcat = torch.cat(lz, dim = 2)\n",
        "\n",
        "        conved = [F.relu(conv(zcat)) for conv in self.convs]\n",
        "\n",
        "        pooled=[]\n",
        "        for c in conved:\n",
        "          pooled.append(F.max_pool1d(c,c.shape[2]))\n",
        "\n",
        "        pooled = [f.permute(0,2,1) for f in pooled]\n",
        "\n",
        "        pooled2 = [F.max_pool1d(p, 2) for p in pooled]\n",
        "\n",
        "        pooled3 = [F.relu(self.conv2(p1)) for p1 in pooled2]\n",
        "\n",
        "        pooled4=[]\n",
        "        for c in pooled3:\n",
        "            pooled4.append(F.max_pool1d(c,c.shape[2]))\n",
        "        # for f in pooled4:\n",
        "        #   print(f.size(),\"Pooled4\")\n",
        "        final = torch.cat(pooled4,dim = 1)\n",
        "        #print(final.size(),\"final\")\n",
        "        final = final.reshape(batch_size,200)\n",
        "        full1 = self.fc1(final)\n",
        "        full2= self.fc2(full1)\n",
        "        return full2\n",
        "\n",
        "\n",
        "\n",
        "        # cat = torch.cat(pooled, dim = 2)\n",
        "        # conved2 = F.relu(self.convs2(cat)) \n",
        "        # pooled2 = F.max_pool1d(conved2, 2)\n",
        "        # pooled2=pooled2.reshape(batch_size,149700)\n",
        "        # full1= self.fc1(pooled2)\n",
        "        # full1_bn=self.dropout(self.fc1_bn(full1))\n",
        "        # full2= self.fc2(full1)\n",
        "        # return full2"
      ],
      "execution_count": 0,
      "outputs": []
    },
    {
      "cell_type": "code",
      "metadata": {
        "colab_type": "code",
        "id": "OA6eyQwfhPDn",
        "colab": {}
      },
      "source": [
        "INPUT_DIM = len(TEXT.vocab)\n",
        "EMBEDDING_DIM = 300\n",
        "DROPOUT = 0.5\n",
        "PAD_IDX = TEXT.vocab.stoi[TEXT.pad_token]\n",
        "\n",
        "model = CNN1d(INPUT_DIM, EMBEDDING_DIM, DROPOUT, PAD_IDX)"
      ],
      "execution_count": 0,
      "outputs": []
    },
    {
      "cell_type": "code",
      "metadata": {
        "colab_type": "code",
        "id": "aS9MK8DJhPDp",
        "outputId": "f4c1ed11-4a23-4c13-aa11-11b6936d6693",
        "colab": {
          "base_uri": "https://localhost:8080/",
          "height": 34
        }
      },
      "source": [
        "def count_parameters(model):\n",
        "    return sum(p.numel() for p in model.parameters() if p.requires_grad)\n",
        "\n",
        "print(f'The model has {count_parameters(model):,} trainable parameters')"
      ],
      "execution_count": 105,
      "outputs": [
        {
          "output_type": "stream",
          "text": [
            "The model has 3,426,501 trainable parameters\n"
          ],
          "name": "stdout"
        }
      ]
    },
    {
      "cell_type": "code",
      "metadata": {
        "id": "_uopIQzm91Ck",
        "colab_type": "code",
        "colab": {
          "base_uri": "https://localhost:8080/",
          "height": 208
        },
        "outputId": "795c2ffc-bde2-4cc8-f3be-9a62a55da116"
      },
      "source": [
        "for name, param in model.named_parameters():\n",
        "    if param.requires_grad:\n",
        "        print (name, param.data.shape)"
      ],
      "execution_count": 106,
      "outputs": [
        {
          "output_type": "stream",
          "text": [
            "embedding.weight torch.Size([10002, 300])\n",
            "convs.0.weight torch.Size([150, 300, 4])\n",
            "convs.0.bias torch.Size([150])\n",
            "convs.1.weight torch.Size([150, 300, 5])\n",
            "convs.1.bias torch.Size([150])\n",
            "conv2.weight torch.Size([100, 1, 3])\n",
            "conv2.bias torch.Size([100])\n",
            "fc1.weight torch.Size([100, 200])\n",
            "fc1.bias torch.Size([100])\n",
            "fc2.weight torch.Size([1, 100])\n",
            "fc2.bias torch.Size([1])\n"
          ],
          "name": "stdout"
        }
      ]
    },
    {
      "cell_type": "code",
      "metadata": {
        "id": "S39gBml_Dxyv",
        "colab_type": "code",
        "outputId": "8f6be26f-62d9-49b7-8160-bedb19b6c7aa",
        "colab": {
          "base_uri": "https://localhost:8080/",
          "height": 228
        }
      },
      "source": [
        "print(model)\n",
        "print(dir(model))"
      ],
      "execution_count": 107,
      "outputs": [
        {
          "output_type": "stream",
          "text": [
            "CNN1d(\n",
            "  (embedding): Embedding(10002, 300, padding_idx=1)\n",
            "  (convs): ModuleList(\n",
            "    (0): Conv1d(300, 150, kernel_size=(4,), stride=(1,))\n",
            "    (1): Conv1d(300, 150, kernel_size=(5,), stride=(1,))\n",
            "  )\n",
            "  (conv2): Conv1d(1, 100, kernel_size=(3,), stride=(1,))\n",
            "  (fc1): Linear(in_features=200, out_features=100, bias=True)\n",
            "  (fc2): Linear(in_features=100, out_features=1, bias=True)\n",
            ")\n",
            "['__call__', '__class__', '__delattr__', '__dict__', '__dir__', '__doc__', '__eq__', '__format__', '__ge__', '__getattr__', '__getattribute__', '__gt__', '__hash__', '__init__', '__init_subclass__', '__le__', '__lt__', '__module__', '__ne__', '__new__', '__reduce__', '__reduce_ex__', '__repr__', '__setattr__', '__setstate__', '__sizeof__', '__str__', '__subclasshook__', '__weakref__', '_apply', '_backward_hooks', '_buffers', '_forward_hooks', '_forward_pre_hooks', '_get_name', '_load_from_state_dict', '_load_state_dict_pre_hooks', '_modules', '_named_members', '_parameters', '_register_load_state_dict_pre_hook', '_register_state_dict_hook', '_replicate_for_data_parallel', '_save_to_state_dict', '_slow_forward', '_state_dict_hooks', '_version', 'add_module', 'apply', 'buffers', 'children', 'conv2', 'convs', 'cpu', 'cuda', 'double', 'dump_patches', 'embedding', 'eval', 'extra_repr', 'fc1', 'fc2', 'float', 'forward', 'half', 'load_state_dict', 'modules', 'named_buffers', 'named_children', 'named_modules', 'named_parameters', 'parameters', 'register_backward_hook', 'register_buffer', 'register_forward_hook', 'register_forward_pre_hook', 'register_parameter', 'requires_grad_', 'share_memory', 'state_dict', 'to', 'train', 'training', 'type', 'zero_grad']\n"
          ],
          "name": "stdout"
        }
      ]
    },
    {
      "cell_type": "code",
      "metadata": {
        "colab_type": "code",
        "id": "4ohPJO7nhPDt",
        "outputId": "b8f59d6d-967b-4155-e28a-143f2446083c",
        "colab": {
          "base_uri": "https://localhost:8080/",
          "height": 138
        }
      },
      "source": [
        "pretrained_embeddings = TEXT.vocab.vectors\n",
        "model.embedding.weight.data.copy_(pretrained_embeddings)"
      ],
      "execution_count": 108,
      "outputs": [
        {
          "output_type": "execute_result",
          "data": {
            "text/plain": [
              "tensor([[-0.8048,  0.7626, -0.5420,  ..., -1.8786, -0.0687,  0.3894],\n",
              "        [-1.5836,  0.6220, -2.2025,  ...,  1.1934,  1.0526,  0.7467],\n",
              "        [ 0.0466,  0.2132, -0.0074,  ...,  0.0091, -0.2099,  0.0539],\n",
              "        ...,\n",
              "        [-0.0033, -0.2900,  0.3919,  ...,  0.2570, -0.5726, -0.2602],\n",
              "        [-0.0162, -0.1061, -0.0988,  ...,  0.1458,  0.4053, -0.0294],\n",
              "        [-0.4162, -0.1058, -0.3187,  ...,  0.0604, -0.1647, -0.1134]])"
            ]
          },
          "metadata": {
            "tags": []
          },
          "execution_count": 108
        }
      ]
    },
    {
      "cell_type": "code",
      "metadata": {
        "colab_type": "code",
        "id": "7ada_hkAhPDv",
        "colab": {}
      },
      "source": [
        "UNK_IDX = TEXT.vocab.stoi[TEXT.unk_token]\n",
        "\n",
        "model.embedding.weight.data[UNK_IDX] = torch.zeros(EMBEDDING_DIM)\n",
        "model.embedding.weight.data[PAD_IDX] = torch.zeros(EMBEDDING_DIM)"
      ],
      "execution_count": 0,
      "outputs": []
    },
    {
      "cell_type": "code",
      "metadata": {
        "colab_type": "code",
        "id": "9155siYxhPDy",
        "colab": {}
      },
      "source": [
        "import torch.optim as optim\n",
        "optimizer = optim.Adam(model.parameters())\n",
        "criterion = nn.BCEWithLogitsLoss()\n",
        "model = model.to(device)\n",
        "criterion = criterion.to(device)"
      ],
      "execution_count": 0,
      "outputs": []
    },
    {
      "cell_type": "code",
      "metadata": {
        "colab_type": "code",
        "id": "4QnSRBeThPD0",
        "colab": {}
      },
      "source": [
        "def binary_accuracy(preds, y):\n",
        "    #Returns accuracy per batch, i.e. for 8/10 right, this returns 0.8 #round predictions to the closest integer\n",
        "    rounded_preds = torch.round(torch.sigmoid(preds))\n",
        "    correct = (rounded_preds == y).float() #convert into float for division \n",
        "    acc = correct.sum() / len(correct)\n",
        "    return acc"
      ],
      "execution_count": 0,
      "outputs": []
    },
    {
      "cell_type": "code",
      "metadata": {
        "colab_type": "code",
        "id": "EreMcy5OhPD1",
        "colab": {}
      },
      "source": [
        "def train(model, iterator, optimizer, criterion):\n",
        "    epoch_loss = 0\n",
        "    epoch_acc = 0\n",
        "    model.train() #to ensure the dropout is \"turned on\" while training.\n",
        "    for batch in iterator:\n",
        "        optimizer.zero_grad()\n",
        "        predictions = model(batch.text).squeeze(1)\n",
        "        loss = criterion(predictions, batch.label)\n",
        "        acc = binary_accuracy(predictions, batch.label)\n",
        "        loss.backward()\n",
        "        optimizer.step()\n",
        "        epoch_loss += loss.item()\n",
        "        epoch_acc += acc.item()\n",
        "        \n",
        "    return epoch_loss / len(iterator), epoch_acc / len(iterator)"
      ],
      "execution_count": 0,
      "outputs": []
    },
    {
      "cell_type": "code",
      "metadata": {
        "colab_type": "code",
        "id": "0eWOlLZdhPD3",
        "colab": {}
      },
      "source": [
        "def evaluate(model, iterator, criterion):\n",
        "    epoch_loss = 0\n",
        "    epoch_acc = 0\n",
        "    model.eval() #to ensure the dropout is \"turned off\" while evaluating.\n",
        "    with torch.no_grad():\n",
        "        for batch in iterator:\n",
        "            predictions = model(batch.text).squeeze(1)\n",
        "            loss = criterion(predictions, batch.label)\n",
        "            acc = binary_accuracy(predictions, batch.label)\n",
        "            epoch_loss += loss.item()\n",
        "            epoch_acc += acc.item()\n",
        "        \n",
        "    return epoch_loss / len(iterator), epoch_acc / len(iterator)"
      ],
      "execution_count": 0,
      "outputs": []
    },
    {
      "cell_type": "code",
      "metadata": {
        "colab_type": "code",
        "id": "-gQsuGs2hPD5",
        "colab": {}
      },
      "source": [
        "import time\n",
        "def epoch_time(start_time, end_time):\n",
        "    elapsed_time = end_time - start_time\n",
        "    elapsed_mins = int(elapsed_time / 60)\n",
        "    elapsed_secs = int(elapsed_time - (elapsed_mins * 60))\n",
        "    return elapsed_mins, elapsed_secs"
      ],
      "execution_count": 0,
      "outputs": []
    },
    {
      "cell_type": "code",
      "metadata": {
        "colab_type": "code",
        "id": "qTKCHpdvhPD7",
        "scrolled": true,
        "colab": {
          "base_uri": "https://localhost:8080/",
          "height": 173
        },
        "outputId": "3c335eff-4d1f-43b6-9912-dbd41bd31865"
      },
      "source": [
        "N_EPOCHS = 3\n",
        "best_valid_loss = float('inf')\n",
        "for epoch in range(N_EPOCHS):\n",
        "    start_time = time.time()\n",
        "    train_loss, train_acc = train(model, train_iterator, optimizer, criterion)\n",
        "    valid_loss, valid_acc = evaluate(model, valid_iterator, criterion)\n",
        "    end_time = time.time()\n",
        "    epoch_mins, epoch_secs = epoch_time(start_time, end_time)\n",
        "    if valid_loss < best_valid_loss:\n",
        "        best_valid_loss = valid_loss\n",
        "        torch.save(model.state_dict(), 'model.pt')\n",
        "    \n",
        "    print(f'Epoch: {epoch+1:02} | Epoch Time: {epoch_mins}m {epoch_secs}s')\n",
        "    print(f'\\tTrain Loss: {train_loss:.3f} | Train Acc: {train_acc*100:.2f}%')\n",
        "    print(f'\\t Val. Loss: {valid_loss:.3f} |  Val. Acc: {valid_acc*100:.2f}%')"
      ],
      "execution_count": 116,
      "outputs": [
        {
          "output_type": "stream",
          "text": [
            "Epoch: 01 | Epoch Time: 0m 45s\n",
            "\tTrain Loss: 0.559 | Train Acc: 68.79%\n",
            "\t Val. Loss: 0.422 |  Val. Acc: 80.71%\n",
            "Epoch: 02 | Epoch Time: 0m 45s\n",
            "\tTrain Loss: 0.328 | Train Acc: 85.81%\n",
            "\t Val. Loss: 0.398 |  Val. Acc: 83.19%\n",
            "Epoch: 03 | Epoch Time: 0m 45s\n",
            "\tTrain Loss: 0.202 | Train Acc: 92.14%\n",
            "\t Val. Loss: 0.411 |  Val. Acc: 84.29%\n"
          ],
          "name": "stdout"
        }
      ]
    },
    {
      "cell_type": "code",
      "metadata": {
        "id": "-BiiiCcz48-D",
        "colab_type": "code",
        "colab": {
          "base_uri": "https://localhost:8080/",
          "height": 34
        },
        "outputId": "ae8353ab-5c59-49c8-94ba-0d7df4966f67"
      },
      "source": [
        "model.load_state_dict(torch.load('model.pt'))\n",
        "test_loss, test_acc = evaluate(model, test_iterator, criterion)\n",
        "\n",
        "print(f'Test Loss: {test_loss:.3f} | Test Acc: {test_acc*100:.2f}%')"
      ],
      "execution_count": 69,
      "outputs": [
        {
          "output_type": "stream",
          "text": [
            "Test Loss: 0.362 | Test Acc: 84.27%\n"
          ],
          "name": "stdout"
        }
      ]
    },
    {
      "cell_type": "code",
      "metadata": {
        "id": "BA63P3tRJgD-",
        "colab_type": "code",
        "colab": {}
      },
      "source": [
        "activation = {}\n",
        "def get_activation(name):\n",
        "    def hook(model, input, output):\n",
        "        activation[name] = output.detach()\n",
        "    return hook\n",
        "\n",
        "for name, layer in model.named_modules():\n",
        "    layer.register_forward_hook(get_activation(name))"
      ],
      "execution_count": 0,
      "outputs": []
    },
    {
      "cell_type": "code",
      "metadata": {
        "id": "jNPSZcBjCAB0",
        "colab_type": "code",
        "outputId": "2869a974-9cdd-47bf-b22c-b00ec8bf67d4",
        "colab": {
          "base_uri": "https://localhost:8080/",
          "height": 242
        }
      },
      "source": [
        "import spacy\n",
        "nlp = spacy.load('en')\n",
        "\n",
        "\n",
        "def extract_features(model,sentence,min_len=5):\n",
        "  model.eval()\n",
        "  tokenized = [tok.text for tok in nlp.tokenizer(sentence)]\n",
        "  if len(tokenized)>3000:\n",
        "    tokenized=tokenized[:3000]\n",
        "  if len(tokenized) < min_len:\n",
        "      tokenized += ['<pad>'] * (min_len - len(tokenized))\n",
        "  indexed = [TEXT.vocab.stoi[t] for t in tokenized]\n",
        "  tensor = torch.LongTensor(indexed).to(device)\n",
        "  tensor = tensor.unsqueeze(0)\n",
        "  model(tensor)\n",
        "  return activation['fc1']\n",
        "\n",
        "  \n",
        "extract_features(model,\"This is undoubtedly the best best best movie ever!!!\")"
      ],
      "execution_count": 121,
      "outputs": [
        {
          "output_type": "execute_result",
          "data": {
            "text/plain": [
              "tensor([[-0.1962, -6.4804, -0.1389, -9.7250,  2.2781,  2.9112, -0.0829, -2.1120,\n",
              "         -0.2649, -5.3577,  1.5222,  1.9277, -4.2840, -0.0882,  5.7938,  2.0542,\n",
              "         -1.4710, -0.0627, -1.0962,  0.6844, -3.4132,  0.4857,  1.7672,  2.4364,\n",
              "          1.3582, -1.3487,  5.5187, -5.9139, -7.0101,  3.4514,  0.9348,  9.3349,\n",
              "         -6.6626,  2.5637, 10.3755, -1.8096,  0.4203,  9.5361,  1.5954,  1.8546,\n",
              "         -0.8474,  0.6088, -2.1351, -0.3229,  2.0653,  2.0688, -0.7760, -1.1287,\n",
              "         -0.6393, -0.4662,  2.6785,  7.3850,  4.5344, -0.8405, -1.5471, -3.2531,\n",
              "          1.0198, -1.5518,  1.4121, 10.6444, -9.4700,  0.5770, -1.4240, -0.4122,\n",
              "          0.8297,  0.3535, -4.6906,  8.0413, -1.3140,  8.7676,  4.3516,  2.7208,\n",
              "         -1.7176,  5.3329,  0.0271, -1.5865, -4.4582,  5.3403,  0.6308, -0.1152,\n",
              "          4.9711, -1.9958, -9.4701, -0.5949,  7.2818,  0.3410,  0.5714,  5.2545,\n",
              "         -1.1924,  9.1059, -1.7496,  3.8955,  0.7718,  6.5278,  0.6475,  2.5976,\n",
              "         -9.3027,  0.6308,  1.2326,  2.9497]], device='cuda:0')"
            ]
          },
          "metadata": {
            "tags": []
          },
          "execution_count": 121
        }
      ]
    },
    {
      "cell_type": "code",
      "metadata": {
        "colab_type": "code",
        "id": "CAge-o7MhPEA",
        "colab": {}
      },
      "source": [
        "def predict_sentiment(model, sentence, min_len = 5):\n",
        "    model.eval()\n",
        "    tokenized = [tok.text for tok in nlp.tokenizer(sentence)]\n",
        "    if len(tokenized) < min_len:\n",
        "        tokenized += ['<pad>'] * (min_len - len(tokenized))\n",
        "    indexed = [TEXT.vocab.stoi[t] for t in tokenized]\n",
        "    tensor = torch.LongTensor(indexed).to(device)\n",
        "    tensor = tensor.unsqueeze(0)\n",
        "    prediction = torch.sigmoid(model(tensor))\n",
        "    return prediction.item()"
      ],
      "execution_count": 0,
      "outputs": []
    },
    {
      "cell_type": "code",
      "metadata": {
        "colab_type": "code",
        "id": "w-Q5NuqWhPEB",
        "colab": {
          "base_uri": "https://localhost:8080/",
          "height": 34
        },
        "outputId": "c71be968-11f2-4e9c-d3c0-e65153e9f435"
      },
      "source": [
        "predict_sentiment(model, \"This is undoubtedly the best best best movie ever!!!\")"
      ],
      "execution_count": 123,
      "outputs": [
        {
          "output_type": "execute_result",
          "data": {
            "text/plain": [
              "0.9996084570884705"
            ]
          },
          "metadata": {
            "tags": []
          },
          "execution_count": 123
        }
      ]
    },
    {
      "cell_type": "code",
      "metadata": {
        "colab_type": "code",
        "id": "4MRX4wzthPED",
        "colab": {
          "base_uri": "https://localhost:8080/",
          "height": 34
        },
        "outputId": "ce8f1b9f-6d2a-45ae-835e-9e4f764c5d03"
      },
      "source": [
        "predict_sentiment(model, \"I have to give this zero stars\")"
      ],
      "execution_count": 124,
      "outputs": [
        {
          "output_type": "execute_result",
          "data": {
            "text/plain": [
              "0.04699946567416191"
            ]
          },
          "metadata": {
            "tags": []
          },
          "execution_count": 124
        }
      ]
    },
    {
      "cell_type": "code",
      "metadata": {
        "id": "amZxJDMUly3K",
        "colab_type": "code",
        "colab": {
          "base_uri": "https://localhost:8080/",
          "height": 34
        },
        "outputId": "86107336-5322-48f5-f966-907057e25804"
      },
      "source": [
        "predict_sentiment(model, \"Good at being terrible \")"
      ],
      "execution_count": 125,
      "outputs": [
        {
          "output_type": "execute_result",
          "data": {
            "text/plain": [
              "0.000428651983384043"
            ]
          },
          "metadata": {
            "tags": []
          },
          "execution_count": 125
        }
      ]
    },
    {
      "cell_type": "code",
      "metadata": {
        "id": "xbDYMNaMmcQb",
        "colab_type": "code",
        "colab": {}
      },
      "source": [
        ""
      ],
      "execution_count": 0,
      "outputs": []
    }
  ]
}